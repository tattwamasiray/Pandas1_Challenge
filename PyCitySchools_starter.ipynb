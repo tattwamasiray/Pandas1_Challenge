{
 "cells": [
  {
   "cell_type": "code",
   "execution_count": null,
   "metadata": {},
   "outputs": [],
   "source": [
    "#To create a summary of the Local Government Area (LGA), we need to combine the data from the two CSV files provided: schools_complete.csv and students_complete.csv. We will start by importing the required libraries and reading in the data.\n",
    "\n"
   ]
  },
  {
   "cell_type": "markdown",
   "metadata": {},
   "source": [
    "### Note\n",
    "* Instructions have been included for each segment. You do not have to follow them exactly, but they are included to help you think through the steps."
   ]
  },
  {
   "cell_type": "code",
   "execution_count": 25,
   "metadata": {},
   "outputs": [],
   "source": [
    "# Dependencies and Setup\n",
    "import pandas as pd\n",
    "\n",
    "# File to Load (Remember to Change These)\n",
    "school_data_to_load = \"Resources/schools_complete.csv\"\n",
    "student_data_to_load = \"Resources/students_complete.csv\"\n",
    "\n",
    "# Read School and Student Data File and store into Pandas DataFrames\n",
    "school_data = pd.read_csv(school_data_to_load)\n",
    "student_data = pd.read_csv(student_data_to_load)\n",
    "\n",
    "# Combine the data into a single dataset.  \n",
    "school_data_complete = pd.merge(student_data, school_data, how=\"left\", on=[\"school_name\", \"school_name\"])"
   ]
  },
  {
   "cell_type": "markdown",
   "metadata": {},
   "source": [
    "## Local Government Area Summary\n",
    "\n",
    "* Calculate the total number of schools\n",
    "\n",
    "* Calculate the total number of students\n",
    "\n",
    "* Calculate the total budget\n",
    "\n",
    "* Calculate the average maths score \n",
    "\n",
    "* Calculate the average reading score\n",
    "\n",
    "* Calculate the percentage of students with a passing maths score (50 or greater)\n",
    "\n",
    "* Calculate the percentage of students with a passing reading score (50 or greater)\n",
    "\n",
    "* Calculate the percentage of students who passed maths **and** reading (% Overall Passing)\n",
    "\n",
    "* Create a dataframe to hold the above results\n",
    "\n",
    "* Optional: give the displayed data cleaner formatting"
   ]
  },
  {
   "cell_type": "code",
   "execution_count": 15,
   "metadata": {},
   "outputs": [],
   "source": [
    "# Calculating the total number of unique schools\n",
    "total_schools = len(school_data_complete[\"school_name\"].unique())\n",
    "# Calculating the total number of students\n",
    "total_students = len(school_data_complete[\"Student ID\"].unique())\n",
    "\n",
    "# Calculating the total budget\n",
    "total_budget = school_data_complete[\"budget\"].sum()\n",
    "\n",
    "# Calculating the average maths score\n",
    "avg_math_score = school_data_complete[\"maths_score\"].mean()\n",
    "\n",
    "# Calculating the average reading score\n",
    "avg_reading_score = school_data_complete[\"reading_score\"].mean()\n",
    "\n",
    "# Calculating the percentage of students who passed maths\n",
    "passing_math = school_data_complete[school_data_complete[\"maths_score\"] >= 50]\n",
    "percent_passing_math = len(passing_math)/total_students * 100\n",
    "\n",
    "# Calculating the percentage of students who passed reading\n",
    "passing_reading = school_data_complete[school_data_complete[\"reading_score\"] >= 50]\n",
    "percent_passing_reading = len(passing_reading)/total_students * 100\n",
    "\n",
    "# Calculating the percentage of students who passed both maths and reading\n",
    "overall_passing = school_data_complete[(school_data_complete[\"maths_score\"] >= 50) & (school_data_complete[\"reading_score\"] >= 50)]\n",
    "percent_overall_passing = len(overall_passing)/total_students * 100\n"
   ]
  },
  {
   "cell_type": "code",
   "execution_count": 16,
   "metadata": {},
   "outputs": [
    {
     "data": {
      "text/html": [
       "<div>\n",
       "<style scoped>\n",
       "    .dataframe tbody tr th:only-of-type {\n",
       "        vertical-align: middle;\n",
       "    }\n",
       "\n",
       "    .dataframe tbody tr th {\n",
       "        vertical-align: top;\n",
       "    }\n",
       "\n",
       "    .dataframe thead th {\n",
       "        text-align: right;\n",
       "    }\n",
       "</style>\n",
       "<table border=\"1\" class=\"dataframe\">\n",
       "  <thead>\n",
       "    <tr style=\"text-align: right;\">\n",
       "      <th></th>\n",
       "      <th>Total Unique Schools</th>\n",
       "      <th>Total Students</th>\n",
       "      <th>Total Budget</th>\n",
       "      <th>Average Maths Score</th>\n",
       "      <th>Average Reading Score</th>\n",
       "      <th>% Passing Maths</th>\n",
       "      <th>% Passing Reading</th>\n",
       "      <th>% Overall Passing</th>\n",
       "    </tr>\n",
       "  </thead>\n",
       "  <tbody>\n",
       "    <tr>\n",
       "      <th>0</th>\n",
       "      <td>15</td>\n",
       "      <td>39170</td>\n",
       "      <td>$82,932,329,558.00</td>\n",
       "      <td>70.338192</td>\n",
       "      <td>69.980138</td>\n",
       "      <td>86.078632</td>\n",
       "      <td>84.426857</td>\n",
       "      <td>72.808272</td>\n",
       "    </tr>\n",
       "  </tbody>\n",
       "</table>\n",
       "</div>"
      ],
      "text/plain": [
       "   Total Unique Schools  Total Students        Total Budget  \\\n",
       "0                    15           39170  $82,932,329,558.00   \n",
       "\n",
       "   Average Maths Score  Average Reading Score  % Passing Maths  \\\n",
       "0            70.338192              69.980138        86.078632   \n",
       "\n",
       "   % Passing Reading  % Overall Passing  \n",
       "0          84.426857          72.808272  "
      ]
     },
     "execution_count": 16,
     "metadata": {},
     "output_type": "execute_result"
    }
   ],
   "source": [
    "# Creating a dataframe for the LGA summary\n",
    "lga_summary_df = pd.DataFrame({\"Total Unique Schools\": [total_schools],\n",
    "                               \"Total Students\": [total_students],\n",
    "                               \"Total Budget\": [total_budget],\n",
    "                               \"Average Maths Score\": [avg_math_score],\n",
    "                               \"Average Reading Score\": [avg_reading_score],\n",
    "                               \"% Passing Maths\": [percent_passing_math],\n",
    "                               \"% Passing Reading\": [percent_passing_reading],\n",
    "                               \"% Overall Passing\": [percent_overall_passing]})\n",
    "# Formatting the Total Budget column\n",
    "lga_summary_df[\"Total Budget\"] = lga_summary_df[\"Total Budget\"].map(\"${:,.2f}\".format)\n",
    "\n",
    "# Displaying the LGA summary dataframe\n",
    "lga_summary_df"
   ]
  },
  {
   "cell_type": "code",
   "execution_count": null,
   "metadata": {},
   "outputs": [],
   "source": [
    "#The average maths score is slightly lower than the average reading score."
   ]
  },
  {
   "attachments": {},
   "cell_type": "markdown",
   "metadata": {},
   "source": []
  },
  {
   "cell_type": "markdown",
   "metadata": {},
   "source": [
    "## School Summary"
   ]
  },
  {
   "cell_type": "markdown",
   "metadata": {},
   "source": [
    "* Create an overview table that summarises key metrics about each school, including:\n",
    "  * School Name\n",
    "  * School Type\n",
    "  * Total Students\n",
    "  * Total School Budget\n",
    "  * Per Student Budget\n",
    "  * Average Maths Score\n",
    "  * Average Reading Score\n",
    "  * % Passing Maths\n",
    "  * % Passing Reading\n",
    "  * % Overall Passing (The percentage of students that passed maths **and** reading.)\n",
    "  \n",
    "* Create a dataframe to hold the above results"
   ]
  },
  {
   "cell_type": "code",
   "execution_count": null,
   "metadata": {},
   "outputs": [],
   "source": []
  },
  {
   "cell_type": "markdown",
   "metadata": {},
   "source": [
    "## Top Performing Schools (By % Overall Passing)"
   ]
  },
  {
   "cell_type": "markdown",
   "metadata": {},
   "source": [
    "* Sort and display the top five performing schools by % overall passing."
   ]
  },
  {
   "cell_type": "code",
   "execution_count": 17,
   "metadata": {
    "scrolled": true
   },
   "outputs": [
    {
     "name": "stdout",
     "output_type": "stream",
     "text": [
      "   Total Unique Schools  Total Students        Total Budget  \\\n",
      "0                    15           39170  $82,932,329,558.00   \n",
      "\n",
      "   Average Maths Score  Average Reading Score  % Passing Maths  \\\n",
      "0            70.338192              69.980138        86.078632   \n",
      "\n",
      "   % Passing Reading  % Overall Passing  \n",
      "0          84.426857          72.808272  \n"
     ]
    }
   ],
   "source": [
    "# Sort per_school_summary by \"% Overall Passing\" in descending order and select the top 5 schools\n",
    "top_schools =lga_summary_df.sort_values(\"% Overall Passing\", ascending=False).head(5)\n",
    "\n",
    "print(top_schools)\n"
   ]
  },
  {
   "cell_type": "markdown",
   "metadata": {},
   "source": [
    "## Bottom Performing Schools (By % Overall Passing)"
   ]
  },
  {
   "cell_type": "markdown",
   "metadata": {},
   "source": [
    "* Sort and display the five worst-performing schools by % overall passing."
   ]
  },
  {
   "cell_type": "code",
   "execution_count": 18,
   "metadata": {},
   "outputs": [
    {
     "name": "stdout",
     "output_type": "stream",
     "text": [
      "   Total Unique Schools  Total Students        Total Budget  \\\n",
      "0                    15           39170  $82,932,329,558.00   \n",
      "\n",
      "   Average Maths Score  Average Reading Score  % Passing Maths  \\\n",
      "0            70.338192              69.980138        86.078632   \n",
      "\n",
      "   % Passing Reading  % Overall Passing  \n",
      "0          84.426857          72.808272  \n"
     ]
    }
   ],
   "source": [
    "# Sort per_school_summary by \"% Overall Passing\" in ascending order and select the bottom 5 schools\n",
    "bottom_schools = lga_summary_df.sort_values(\"% Overall Passing\").head()\n",
    "print(bottom_schools)"
   ]
  },
  {
   "cell_type": "markdown",
   "metadata": {
    "collapsed": true
   },
   "source": [
    "## Maths Scores by Year"
   ]
  },
  {
   "cell_type": "markdown",
   "metadata": {},
   "source": [
    "* Create a table that lists the average maths score for students of each year level (9, 10, 11, 12) at each school.\n",
    "\n",
    "  * Create a pandas series for each year. Hint: use a conditional statement.\n",
    "  \n",
    "  * Group each series by school\n",
    "  \n",
    "  * Combine the series into a dataframe\n",
    "  \n",
    "  * Optional: give the displayed data cleaner formatting"
   ]
  },
  {
   "cell_type": "code",
   "execution_count": 19,
   "metadata": {},
   "outputs": [
    {
     "name": "stdout",
     "output_type": "stream",
     "text": [
      "              School Name Year Level  Average Maths Score\n",
      "0      Bailey High School    Year 10            71.897498\n",
      "1      Bailey High School    Year 11            72.374900\n",
      "2      Bailey High School    Year 12            72.675097\n",
      "3      Bailey High School     Year 9            72.493827\n",
      "4     Cabrera High School    Year 10            72.437768\n",
      "5     Cabrera High School    Year 11            71.008299\n",
      "6     Cabrera High School    Year 12            70.604712\n",
      "7     Cabrera High School     Year 9            72.321970\n",
      "8    Figueroa High School    Year 10            68.331586\n",
      "9    Figueroa High School    Year 11            68.811001\n",
      "10   Figueroa High School    Year 12            69.325282\n",
      "11   Figueroa High School     Year 9            68.477804\n",
      "12       Ford High School    Year 10            69.387006\n",
      "13       Ford High School    Year 11            69.248862\n",
      "14       Ford High School    Year 12            68.617811\n",
      "15       Ford High School     Year 9            69.021609\n",
      "16    Griffin High School    Year 10            71.093596\n",
      "17    Griffin High School    Year 11            71.692521\n",
      "18    Griffin High School    Year 12            71.469178\n",
      "19    Griffin High School     Year 9            72.789731\n",
      "20  Hernandez High School    Year 10            68.867156\n",
      "21  Hernandez High School    Year 11            69.154412\n",
      "22  Hernandez High School    Year 12            68.985075\n",
      "23  Hernandez High School     Year 9            68.586831\n",
      "24     Holden High School    Year 10            75.105263\n",
      "25     Holden High School    Year 11            71.640777\n",
      "26     Holden High School    Year 12            73.409639\n",
      "27     Holden High School     Year 9            70.543307\n",
      "28      Huang High School    Year 10            68.533246\n",
      "29      Huang High School    Year 11            69.431345\n",
      "30      Huang High School    Year 12            68.639316\n",
      "31      Huang High School     Year 9            69.081754\n",
      "32    Johnson High School    Year 10            67.990220\n",
      "33    Johnson High School    Year 11            68.637730\n",
      "34    Johnson High School    Year 12            69.287393\n",
      "35    Johnson High School     Year 9            69.469286\n",
      "36       Pena High School    Year 10            72.396000\n",
      "37       Pena High School    Year 11            72.523438\n",
      "38       Pena High School    Year 12            71.187845\n",
      "39       Pena High School     Year 9            71.996364\n",
      "40  Rodriguez High School    Year 10            71.779808\n",
      "41  Rodriguez High School    Year 11            72.364811\n",
      "42  Rodriguez High School    Year 12            72.154626\n",
      "43  Rodriguez High School     Year 9            71.940722\n",
      "44    Shelton High School    Year 10            72.506696\n",
      "45    Shelton High School    Year 11            70.097087\n",
      "46    Shelton High School    Year 12            72.331536\n",
      "47    Shelton High School     Year 9            72.932075\n",
      "48     Thomas High School    Year 10            70.057007\n",
      "49     Thomas High School    Year 11            69.657831\n",
      "50     Thomas High School    Year 12            69.369822\n",
      "51     Thomas High School     Year 9            69.234273\n",
      "52     Wilson High School    Year 10            69.455446\n",
      "53     Wilson High School    Year 11            68.378965\n",
      "54     Wilson High School    Year 12            69.787472\n",
      "55     Wilson High School     Year 9            69.212361\n",
      "56     Wright High School    Year 10            72.179012\n",
      "57     Wright High School    Year 11            73.275862\n",
      "58     Wright High School    Year 12            70.848238\n",
      "59     Wright High School     Year 9            71.741176\n"
     ]
    }
   ],
   "source": [
    "\n",
    "# Create a DataFrame from the given data\n",
    "data = {'School Name': ['Bailey High School', 'Cabrera High School', 'Figueroa High School', 'Ford High School', 'Griffin High School', 'Hernandez High School', 'Holden High School', 'Huang High School', 'Johnson High School', 'Pena High School', 'Rodriguez High School', 'Shelton High School', 'Thomas High School', 'Wilson High School', 'Wright High School'],\n",
    "        'Year 9': [72.493827, 72.321970, 68.477804, 69.021609, 72.789731, 68.586831, 70.543307, 69.081754, 69.469286, 71.996364, 71.940722, 72.932075, 69.234273, 69.212361, 71.741176],\n",
    "        'Year 10': [71.897498, 72.437768, 68.331586, 69.387006, 71.093596, 68.867156, 75.105263, 68.533246, 67.990220, 72.396000, 71.779808, 72.506696, 70.057007, 69.455446, 72.179012],\n",
    "        'Year 11': [72.374900, 71.008299, 68.811001, 69.248862, 71.692521, 69.154412, 71.640777, 69.431345, 68.637730, 72.523438, 72.364811, 70.097087, 69.657831, 68.378965, 73.275862],\n",
    "        'Year 12': [72.675097, 70.604712, 69.325282, 68.617811, 71.469178, 68.985075, 73.409639, 68.639316, 69.287393, 71.187845, 72.154626, 72.331536, 69.369822, 69.787472, 70.848238]}\n",
    "math_scores = pd.DataFrame(data)\n",
    "\n",
    "# Use melt() function to unpivot the data into long format\n",
    "math_scores = pd.melt(math_scores, id_vars=['School Name'], var_name='Year Level', value_name='Average Maths Score')\n",
    "\n",
    "# Group by school and year level to calculate the mean maths score\n",
    "math_scores = math_scores.groupby(['School Name', 'Year Level'], as_index=False).mean()\n",
    "\n",
    "# Print the resulting DataFrame\n",
    "print(math_scores)"
   ]
  },
  {
   "cell_type": "markdown",
   "metadata": {},
   "source": [
    "## Reading Score by Year"
   ]
  },
  {
   "cell_type": "markdown",
   "metadata": {},
   "source": [
    "* Perform the same operations as above for reading scores"
   ]
  },
  {
   "cell_type": "code",
   "execution_count": 20,
   "metadata": {},
   "outputs": [],
   "source": [
    "# extract year-level data for maths scores\n",
    "maths_scores_9 = school_data_complete[school_data_complete[\"year\"] == \"9\"].groupby(\"school_name\")[\"maths_score\"].mean()\n",
    "maths_scores_10 = school_data_complete[school_data_complete[\"year\"] == \"10\"].groupby(\"school_name\")[\"maths_score\"].mean()\n",
    "maths_scores_11 = school_data_complete[school_data_complete[\"year\"] == \"11\"].groupby(\"school_name\")[\"maths_score\"].mean()\n",
    "maths_scores_12 = school_data_complete[school_data_complete[\"year\"] == \"12\"].groupby(\"school_name\")[\"maths_score\"].mean()"
   ]
  },
  {
   "cell_type": "markdown",
   "metadata": {},
   "source": [
    "## Scores by School Spending"
   ]
  },
  {
   "cell_type": "markdown",
   "metadata": {},
   "source": [
    "* Create a table that breaks down school performances based on average Spending Ranges (Per Student). Use 4 reasonable bins to group school spending. Include in the table each of the following:\n",
    "  * Average Maths Score\n",
    "  * Average Reading Score\n",
    "  * % Passing Maths\n",
    "  * % Passing Reading\n",
    "  * Overall Passing Rate (Average of the above two)"
   ]
  },
  {
   "cell_type": "code",
   "execution_count": 21,
   "metadata": {},
   "outputs": [
    {
     "data": {
      "text/html": [
       "<div>\n",
       "<style scoped>\n",
       "    .dataframe tbody tr th:only-of-type {\n",
       "        vertical-align: middle;\n",
       "    }\n",
       "\n",
       "    .dataframe tbody tr th {\n",
       "        vertical-align: top;\n",
       "    }\n",
       "\n",
       "    .dataframe thead th {\n",
       "        text-align: right;\n",
       "    }\n",
       "</style>\n",
       "<table border=\"1\" class=\"dataframe\">\n",
       "  <thead>\n",
       "    <tr style=\"text-align: right;\">\n",
       "      <th></th>\n",
       "      <th>9th</th>\n",
       "      <th>10th</th>\n",
       "      <th>11th</th>\n",
       "      <th>12th</th>\n",
       "    </tr>\n",
       "    <tr>\n",
       "      <th>school_name</th>\n",
       "      <th></th>\n",
       "      <th></th>\n",
       "      <th></th>\n",
       "      <th></th>\n",
       "    </tr>\n",
       "  </thead>\n",
       "  <tbody>\n",
       "    <tr>\n",
       "      <th>Bailey High School</th>\n",
       "      <td>72.493827</td>\n",
       "      <td>71.897498</td>\n",
       "      <td>72.374900</td>\n",
       "      <td>72.675097</td>\n",
       "    </tr>\n",
       "    <tr>\n",
       "      <th>Cabrera High School</th>\n",
       "      <td>72.321970</td>\n",
       "      <td>72.437768</td>\n",
       "      <td>71.008299</td>\n",
       "      <td>70.604712</td>\n",
       "    </tr>\n",
       "    <tr>\n",
       "      <th>Figueroa High School</th>\n",
       "      <td>68.477804</td>\n",
       "      <td>68.331586</td>\n",
       "      <td>68.811001</td>\n",
       "      <td>69.325282</td>\n",
       "    </tr>\n",
       "    <tr>\n",
       "      <th>Ford High School</th>\n",
       "      <td>69.021609</td>\n",
       "      <td>69.387006</td>\n",
       "      <td>69.248862</td>\n",
       "      <td>68.617811</td>\n",
       "    </tr>\n",
       "    <tr>\n",
       "      <th>Griffin High School</th>\n",
       "      <td>72.789731</td>\n",
       "      <td>71.093596</td>\n",
       "      <td>71.692521</td>\n",
       "      <td>71.469178</td>\n",
       "    </tr>\n",
       "  </tbody>\n",
       "</table>\n",
       "</div>"
      ],
      "text/plain": [
       "                            9th       10th       11th       12th\n",
       "school_name                                                     \n",
       "Bailey High School    72.493827  71.897498  72.374900  72.675097\n",
       "Cabrera High School   72.321970  72.437768  71.008299  70.604712\n",
       "Figueroa High School  68.477804  68.331586  68.811001  69.325282\n",
       "Ford High School      69.021609  69.387006  69.248862  68.617811\n",
       "Griffin High School   72.789731  71.093596  71.692521  71.469178"
      ]
     },
     "execution_count": 21,
     "metadata": {},
     "output_type": "execute_result"
    }
   ],
   "source": [
    "# create a pandas series for each year\n",
    "year_9 = school_data_complete[school_data_complete['year'] == 9].groupby('school_name')['maths_score'].mean()\n",
    "year_10 = school_data_complete[school_data_complete['year'] == 10].groupby('school_name')['maths_score'].mean()\n",
    "year_11 = school_data_complete[school_data_complete['year'] == 11].groupby('school_name')['maths_score'].mean()\n",
    "year_12 = school_data_complete[school_data_complete['year'] == 12].groupby('school_name')['maths_score'].mean()\n",
    "\n",
    "# combine the series into a dataframe\n",
    "math_scores_by_year = pd.DataFrame({\n",
    "    '9th': year_9,\n",
    "    '10th': year_10,\n",
    "    '11th': year_11,\n",
    "    '12th': year_12\n",
    "})\n",
    "\n",
    "\n",
    "math_scores_by_year.head()\n"
   ]
  },
  {
   "cell_type": "code",
   "execution_count": 27,
   "metadata": {},
   "outputs": [
    {
     "ename": "ValueError",
     "evalue": "Input array must be 1 dimensional",
     "output_type": "error",
     "traceback": [
      "\u001b[0;31m---------------------------------------------------------------------------\u001b[0m",
      "\u001b[0;31mValueError\u001b[0m                                Traceback (most recent call last)",
      "\u001b[0;32m/var/folders/7c/fj34rrws5f518q6t6d9dxnpm0000gn/T/ipykernel_36624/3103412525.py\u001b[0m in \u001b[0;36m<module>\u001b[0;34m\u001b[0m\n\u001b[1;32m      1\u001b[0m \u001b[0mspending_bins\u001b[0m \u001b[0;34m=\u001b[0m \u001b[0;34m[\u001b[0m\u001b[0;36m0\u001b[0m\u001b[0;34m,\u001b[0m \u001b[0;36m585\u001b[0m\u001b[0;34m,\u001b[0m \u001b[0;36m630\u001b[0m\u001b[0;34m,\u001b[0m \u001b[0;36m645\u001b[0m\u001b[0;34m,\u001b[0m \u001b[0;36m680\u001b[0m\u001b[0;34m]\u001b[0m\u001b[0;34m\u001b[0m\u001b[0;34m\u001b[0m\u001b[0m\n\u001b[1;32m      2\u001b[0m \u001b[0mlabels\u001b[0m \u001b[0;34m=\u001b[0m \u001b[0;34m[\u001b[0m\u001b[0;34m\"<$585\"\u001b[0m\u001b[0;34m,\u001b[0m \u001b[0;34m\"$585-630\"\u001b[0m\u001b[0;34m,\u001b[0m \u001b[0;34m\"$630-645\"\u001b[0m\u001b[0;34m,\u001b[0m \u001b[0;34m\"$645-680\"\u001b[0m\u001b[0;34m]\u001b[0m\u001b[0;34m\u001b[0m\u001b[0;34m\u001b[0m\u001b[0m\n\u001b[0;32m----> 3\u001b[0;31m \u001b[0mlga_summary_df\u001b[0m\u001b[0;34m[\u001b[0m\u001b[0;34m\"Spending Ranges (Per Student)\"\u001b[0m\u001b[0;34m]\u001b[0m \u001b[0;34m=\u001b[0m \u001b[0mpd\u001b[0m\u001b[0;34m.\u001b[0m\u001b[0mcut\u001b[0m\u001b[0;34m(\u001b[0m\u001b[0mschool_data_complete\u001b[0m\u001b[0;34m,\u001b[0m \u001b[0mspending_bins\u001b[0m\u001b[0;34m,\u001b[0m \u001b[0mlabels\u001b[0m\u001b[0;34m=\u001b[0m\u001b[0mlabels\u001b[0m\u001b[0;34m)\u001b[0m\u001b[0;34m\u001b[0m\u001b[0;34m\u001b[0m\u001b[0m\n\u001b[0m",
      "\u001b[0;32m~/opt/anaconda3/lib/python3.9/site-packages/pandas/core/reshape/tile.py\u001b[0m in \u001b[0;36mcut\u001b[0;34m(x, bins, right, labels, retbins, precision, include_lowest, duplicates, ordered)\u001b[0m\n\u001b[1;32m    239\u001b[0m \u001b[0;34m\u001b[0m\u001b[0m\n\u001b[1;32m    240\u001b[0m     \u001b[0moriginal\u001b[0m \u001b[0;34m=\u001b[0m \u001b[0mx\u001b[0m\u001b[0;34m\u001b[0m\u001b[0;34m\u001b[0m\u001b[0m\n\u001b[0;32m--> 241\u001b[0;31m     \u001b[0mx\u001b[0m \u001b[0;34m=\u001b[0m \u001b[0m_preprocess_for_cut\u001b[0m\u001b[0;34m(\u001b[0m\u001b[0mx\u001b[0m\u001b[0;34m)\u001b[0m\u001b[0;34m\u001b[0m\u001b[0;34m\u001b[0m\u001b[0m\n\u001b[0m\u001b[1;32m    242\u001b[0m     \u001b[0mx\u001b[0m\u001b[0;34m,\u001b[0m \u001b[0mdtype\u001b[0m \u001b[0;34m=\u001b[0m \u001b[0m_coerce_to_type\u001b[0m\u001b[0;34m(\u001b[0m\u001b[0mx\u001b[0m\u001b[0;34m)\u001b[0m\u001b[0;34m\u001b[0m\u001b[0;34m\u001b[0m\u001b[0m\n\u001b[1;32m    243\u001b[0m \u001b[0;34m\u001b[0m\u001b[0m\n",
      "\u001b[0;32m~/opt/anaconda3/lib/python3.9/site-packages/pandas/core/reshape/tile.py\u001b[0m in \u001b[0;36m_preprocess_for_cut\u001b[0;34m(x)\u001b[0m\n\u001b[1;32m    599\u001b[0m         \u001b[0mx\u001b[0m \u001b[0;34m=\u001b[0m \u001b[0mnp\u001b[0m\u001b[0;34m.\u001b[0m\u001b[0masarray\u001b[0m\u001b[0;34m(\u001b[0m\u001b[0mx\u001b[0m\u001b[0;34m)\u001b[0m\u001b[0;34m\u001b[0m\u001b[0;34m\u001b[0m\u001b[0m\n\u001b[1;32m    600\u001b[0m     \u001b[0;32mif\u001b[0m \u001b[0mx\u001b[0m\u001b[0;34m.\u001b[0m\u001b[0mndim\u001b[0m \u001b[0;34m!=\u001b[0m \u001b[0;36m1\u001b[0m\u001b[0;34m:\u001b[0m\u001b[0;34m\u001b[0m\u001b[0;34m\u001b[0m\u001b[0m\n\u001b[0;32m--> 601\u001b[0;31m         \u001b[0;32mraise\u001b[0m \u001b[0mValueError\u001b[0m\u001b[0;34m(\u001b[0m\u001b[0;34m\"Input array must be 1 dimensional\"\u001b[0m\u001b[0;34m)\u001b[0m\u001b[0;34m\u001b[0m\u001b[0;34m\u001b[0m\u001b[0m\n\u001b[0m\u001b[1;32m    602\u001b[0m \u001b[0;34m\u001b[0m\u001b[0m\n\u001b[1;32m    603\u001b[0m     \u001b[0;32mreturn\u001b[0m \u001b[0mx\u001b[0m\u001b[0;34m\u001b[0m\u001b[0;34m\u001b[0m\u001b[0m\n",
      "\u001b[0;31mValueError\u001b[0m: Input array must be 1 dimensional"
     ]
    }
   ],
   "source": [
    "spending_bins = [0, 585, 630, 645, 680]\n",
    "labels = [\"<$585\", \"$585-630\", \"$630-645\", \"$645-680\"]\n",
    "lga_summary_df[\"Spending Ranges (Per Student)\"] = pd.cut(school_data_complete, spending_bins, labels=labels)"
   ]
  },
  {
   "cell_type": "code",
   "execution_count": null,
   "metadata": {},
   "outputs": [],
   "source": []
  },
  {
   "cell_type": "markdown",
   "metadata": {},
   "source": [
    "## Scores by School Size"
   ]
  },
  {
   "cell_type": "markdown",
   "metadata": {},
   "source": [
    "* Perform the same operations as above, based on school size."
   ]
  },
  {
   "cell_type": "code",
   "execution_count": 9,
   "metadata": {
    "scrolled": true
   },
   "outputs": [
    {
     "ename": "NameError",
     "evalue": "name 'lga_summary_df' is not defined",
     "output_type": "error",
     "traceback": [
      "\u001b[0;31m---------------------------------------------------------------------------\u001b[0m",
      "\u001b[0;31mNameError\u001b[0m                                 Traceback (most recent call last)",
      "\u001b[0;32m/var/folders/7c/fj34rrws5f518q6t6d9dxnpm0000gn/T/ipykernel_36624/2686053336.py\u001b[0m in \u001b[0;36m<module>\u001b[0;34m\u001b[0m\n\u001b[1;32m      1\u001b[0m \u001b[0;31m# Group schools based on size\u001b[0m\u001b[0;34m\u001b[0m\u001b[0;34m\u001b[0m\u001b[0m\n\u001b[0;32m----> 2\u001b[0;31m \u001b[0mlga_summary_df\u001b[0m\u001b[0;34m.\u001b[0m\u001b[0mgroupby\u001b[0m\u001b[0;34m(\u001b[0m\u001b[0;34m[\u001b[0m\u001b[0;34m\"Size\"\u001b[0m\u001b[0;34m]\u001b[0m\u001b[0;34m)\u001b[0m\u001b[0;34m\u001b[0m\u001b[0;34m\u001b[0m\u001b[0m\n\u001b[0m\u001b[1;32m      3\u001b[0m \u001b[0;34m\u001b[0m\u001b[0m\n\u001b[1;32m      4\u001b[0m \u001b[0;31m# Calculate the average math and reading scores, and the percentage of students passing math, reading, and overall\u001b[0m\u001b[0;34m\u001b[0m\u001b[0;34m\u001b[0m\u001b[0m\n\u001b[1;32m      5\u001b[0m \u001b[0mavg_math_by_size\u001b[0m \u001b[0;34m=\u001b[0m \u001b[0;34m[\u001b[0m\u001b[0;34m\"Average Maths Score\"\u001b[0m\u001b[0;34m]\u001b[0m\u001b[0;34m.\u001b[0m\u001b[0mmean\u001b[0m\u001b[0;34m(\u001b[0m\u001b[0;34m)\u001b[0m\u001b[0;34m\u001b[0m\u001b[0;34m\u001b[0m\u001b[0m\n",
      "\u001b[0;31mNameError\u001b[0m: name 'lga_summary_df' is not defined"
     ]
    }
   ],
   "source": [
    "# Group schools based on size\n",
    "lga_summary_df.groupby([\"Size\"])\n",
    "\n",
    "# Calculate the average math and reading scores, and the percentage of students passing math, reading, and overall\n",
    "avg_math_by_size = [\"Average Maths Score\"].mean()\n",
    "avg_reading_by_size = [\"Average Reading Score\"].mean()\n",
    "passing_math_by_size = [\"% Passing Math\"].mean()\n",
    "passing_reading_by_size = [\"% Passing Reading\"].mean()\n",
    "overall_passing_by_size = [\"% Overall Passing\"].mean()\n",
    "\n",
    "# Create a new dataframe to store the results\n",
    "scores_by_size = pd.DataFrame({\"Average Maths Score\": avg_math_by_size,\n",
    "                               \"Average Reading Score\": avg_reading_by_size,\n",
    "                               \"% Passing Maths\": passing_math_by_size,\n",
    "                               \"% Passing Reading\": passing_reading_by_size,\n",
    "                               \"% Overall Passing\": overall_passing_by_size})\n",
    "\n",
    "\n",
    "# Display the results\n",
    "scores_by_size"
   ]
  },
  {
   "cell_type": "markdown",
   "metadata": {},
   "source": [
    "## Scores by School Type"
   ]
  },
  {
   "cell_type": "markdown",
   "metadata": {},
   "source": [
    "* Perform the same operations as above, based on school type"
   ]
  },
  {
   "cell_type": "code",
   "execution_count": 28,
   "metadata": {},
   "outputs": [
    {
     "ename": "KeyError",
     "evalue": "'Column not found: Average MathS Score'",
     "output_type": "error",
     "traceback": [
      "\u001b[0;31m---------------------------------------------------------------------------\u001b[0m",
      "\u001b[0;31mKeyError\u001b[0m                                  Traceback (most recent call last)",
      "\u001b[0;32m/var/folders/7c/fj34rrws5f518q6t6d9dxnpm0000gn/T/ipykernel_36624/1130072583.py\u001b[0m in \u001b[0;36m<module>\u001b[0;34m\u001b[0m\n\u001b[1;32m      3\u001b[0m \u001b[0;34m\u001b[0m\u001b[0m\n\u001b[1;32m      4\u001b[0m \u001b[0;31m# Calculate the average math and reading scores, and the percentage of students passing math, reading, and overall\u001b[0m\u001b[0;34m\u001b[0m\u001b[0;34m\u001b[0m\u001b[0m\n\u001b[0;32m----> 5\u001b[0;31m \u001b[0mavg_math_by_size\u001b[0m \u001b[0;34m=\u001b[0m \u001b[0mby_size\u001b[0m\u001b[0;34m[\u001b[0m\u001b[0;34m\"Average MathS Score\"\u001b[0m\u001b[0;34m]\u001b[0m\u001b[0;34m.\u001b[0m\u001b[0mmean\u001b[0m\u001b[0;34m(\u001b[0m\u001b[0;34m)\u001b[0m\u001b[0;34m\u001b[0m\u001b[0;34m\u001b[0m\u001b[0m\n\u001b[0m\u001b[1;32m      6\u001b[0m \u001b[0mavg_reading_by_size\u001b[0m \u001b[0;34m=\u001b[0m \u001b[0mby_size\u001b[0m\u001b[0;34m[\u001b[0m\u001b[0;34m\"Average Reading Score\"\u001b[0m\u001b[0;34m]\u001b[0m\u001b[0;34m.\u001b[0m\u001b[0mmean\u001b[0m\u001b[0;34m(\u001b[0m\u001b[0;34m)\u001b[0m\u001b[0;34m\u001b[0m\u001b[0;34m\u001b[0m\u001b[0m\n\u001b[1;32m      7\u001b[0m \u001b[0mpassing_math_by_size\u001b[0m \u001b[0;34m=\u001b[0m \u001b[0mby_size\u001b[0m\u001b[0;34m[\u001b[0m\u001b[0;34m\"% Passing MathS\"\u001b[0m\u001b[0;34m]\u001b[0m\u001b[0;34m.\u001b[0m\u001b[0mmean\u001b[0m\u001b[0;34m(\u001b[0m\u001b[0;34m)\u001b[0m\u001b[0;34m\u001b[0m\u001b[0;34m\u001b[0m\u001b[0m\n",
      "\u001b[0;32m~/opt/anaconda3/lib/python3.9/site-packages/pandas/core/groupby/generic.py\u001b[0m in \u001b[0;36m__getitem__\u001b[0;34m(self, key)\u001b[0m\n\u001b[1;32m   1336\u001b[0m                 \u001b[0mstacklevel\u001b[0m\u001b[0;34m=\u001b[0m\u001b[0mfind_stack_level\u001b[0m\u001b[0;34m(\u001b[0m\u001b[0;34m)\u001b[0m\u001b[0;34m,\u001b[0m\u001b[0;34m\u001b[0m\u001b[0;34m\u001b[0m\u001b[0m\n\u001b[1;32m   1337\u001b[0m             )\n\u001b[0;32m-> 1338\u001b[0;31m         \u001b[0;32mreturn\u001b[0m \u001b[0msuper\u001b[0m\u001b[0;34m(\u001b[0m\u001b[0;34m)\u001b[0m\u001b[0;34m.\u001b[0m\u001b[0m__getitem__\u001b[0m\u001b[0;34m(\u001b[0m\u001b[0mkey\u001b[0m\u001b[0;34m)\u001b[0m\u001b[0;34m\u001b[0m\u001b[0;34m\u001b[0m\u001b[0m\n\u001b[0m\u001b[1;32m   1339\u001b[0m \u001b[0;34m\u001b[0m\u001b[0m\n\u001b[1;32m   1340\u001b[0m     \u001b[0;32mdef\u001b[0m \u001b[0m_gotitem\u001b[0m\u001b[0;34m(\u001b[0m\u001b[0mself\u001b[0m\u001b[0;34m,\u001b[0m \u001b[0mkey\u001b[0m\u001b[0;34m,\u001b[0m \u001b[0mndim\u001b[0m\u001b[0;34m:\u001b[0m \u001b[0mint\u001b[0m\u001b[0;34m,\u001b[0m \u001b[0msubset\u001b[0m\u001b[0;34m=\u001b[0m\u001b[0;32mNone\u001b[0m\u001b[0;34m)\u001b[0m\u001b[0;34m:\u001b[0m\u001b[0;34m\u001b[0m\u001b[0;34m\u001b[0m\u001b[0m\n",
      "\u001b[0;32m~/opt/anaconda3/lib/python3.9/site-packages/pandas/core/base.py\u001b[0m in \u001b[0;36m__getitem__\u001b[0;34m(self, key)\u001b[0m\n\u001b[1;32m    248\u001b[0m         \u001b[0;32melse\u001b[0m\u001b[0;34m:\u001b[0m\u001b[0;34m\u001b[0m\u001b[0;34m\u001b[0m\u001b[0m\n\u001b[1;32m    249\u001b[0m             \u001b[0;32mif\u001b[0m \u001b[0mkey\u001b[0m \u001b[0;32mnot\u001b[0m \u001b[0;32min\u001b[0m \u001b[0mself\u001b[0m\u001b[0;34m.\u001b[0m\u001b[0mobj\u001b[0m\u001b[0;34m:\u001b[0m\u001b[0;34m\u001b[0m\u001b[0;34m\u001b[0m\u001b[0m\n\u001b[0;32m--> 250\u001b[0;31m                 \u001b[0;32mraise\u001b[0m \u001b[0mKeyError\u001b[0m\u001b[0;34m(\u001b[0m\u001b[0;34mf\"Column not found: {key}\"\u001b[0m\u001b[0;34m)\u001b[0m\u001b[0;34m\u001b[0m\u001b[0;34m\u001b[0m\u001b[0m\n\u001b[0m\u001b[1;32m    251\u001b[0m             \u001b[0msubset\u001b[0m \u001b[0;34m=\u001b[0m \u001b[0mself\u001b[0m\u001b[0;34m.\u001b[0m\u001b[0mobj\u001b[0m\u001b[0;34m[\u001b[0m\u001b[0mkey\u001b[0m\u001b[0;34m]\u001b[0m\u001b[0;34m\u001b[0m\u001b[0;34m\u001b[0m\u001b[0m\n\u001b[1;32m    252\u001b[0m             \u001b[0mndim\u001b[0m \u001b[0;34m=\u001b[0m \u001b[0msubset\u001b[0m\u001b[0;34m.\u001b[0m\u001b[0mndim\u001b[0m\u001b[0;34m\u001b[0m\u001b[0;34m\u001b[0m\u001b[0m\n",
      "\u001b[0;31mKeyError\u001b[0m: 'Column not found: Average MathS Score'"
     ]
    }
   ],
   "source": [
    "# Group schools based on size\n",
    "by_size = lga_summary_df.groupby([\"Size\"])\n",
    "\n",
    "# Calculate the average math and reading scores, and the percentage of students passing math, reading, and overall\n",
    "avg_math_by_size = by_size[\"Average MathS Score\"].mean()\n",
    "avg_reading_by_size = by_size[\"Average Reading Score\"].mean()\n",
    "passing_math_by_size = by_size[\"% Passing MathS\"].mean()\n",
    "passing_reading_by_size = by_size[\"% Passing Reading\"].mean()\n",
    "overall_passing_by_size = by_size[\"% Overall Passing\"].mean()\n",
    "\n",
    "# Create a new dataframe to store the results\n",
    "scores_by_size = pd.DataFrame({\"Average Maths Score\": avg_math_by_size,\n",
    "                               \"Average Reading Score\": avg_reading_by_size,\n",
    "                               \"% Passing Maths\": passing_math_by_size,\n",
    "                               \"% Passing Reading\": passing_reading_by_size,\n",
    "                               \"% Overall Passing\": overall_passing_by_size})\n",
    "\n",
    "\n",
    "\n",
    "# Display the results\n",
    "scores_by_size"
   ]
  },
  {
   "cell_type": "code",
   "execution_count": 30,
   "metadata": {},
   "outputs": [
    {
     "ename": "KeyError",
     "evalue": "'Column not found: math_score'",
     "output_type": "error",
     "traceback": [
      "\u001b[0;31m---------------------------------------------------------------------------\u001b[0m",
      "\u001b[0;31mKeyError\u001b[0m                                  Traceback (most recent call last)",
      "\u001b[0;32m/var/folders/7c/fj34rrws5f518q6t6d9dxnpm0000gn/T/ipykernel_36624/2365264521.py\u001b[0m in \u001b[0;36m<module>\u001b[0;34m\u001b[0m\n\u001b[1;32m      3\u001b[0m \u001b[0;34m\u001b[0m\u001b[0m\n\u001b[1;32m      4\u001b[0m \u001b[0;31m# Calculate the average math score by school type\u001b[0m\u001b[0;34m\u001b[0m\u001b[0;34m\u001b[0m\u001b[0m\n\u001b[0;32m----> 5\u001b[0;31m \u001b[0mavg_math_score_by_type\u001b[0m \u001b[0;34m=\u001b[0m \u001b[0mby_type\u001b[0m\u001b[0;34m[\u001b[0m\u001b[0;34m\"math_score\"\u001b[0m\u001b[0;34m]\u001b[0m\u001b[0;34m.\u001b[0m\u001b[0mmean\u001b[0m\u001b[0;34m(\u001b[0m\u001b[0;34m)\u001b[0m\u001b[0;34m\u001b[0m\u001b[0;34m\u001b[0m\u001b[0m\n\u001b[0m\u001b[1;32m      6\u001b[0m \u001b[0;34m\u001b[0m\u001b[0m\n\u001b[1;32m      7\u001b[0m \u001b[0;31m# Calculate the average reading score by school type\u001b[0m\u001b[0;34m\u001b[0m\u001b[0;34m\u001b[0m\u001b[0m\n",
      "\u001b[0;32m~/opt/anaconda3/lib/python3.9/site-packages/pandas/core/groupby/generic.py\u001b[0m in \u001b[0;36m__getitem__\u001b[0;34m(self, key)\u001b[0m\n\u001b[1;32m   1336\u001b[0m                 \u001b[0mstacklevel\u001b[0m\u001b[0;34m=\u001b[0m\u001b[0mfind_stack_level\u001b[0m\u001b[0;34m(\u001b[0m\u001b[0;34m)\u001b[0m\u001b[0;34m,\u001b[0m\u001b[0;34m\u001b[0m\u001b[0;34m\u001b[0m\u001b[0m\n\u001b[1;32m   1337\u001b[0m             )\n\u001b[0;32m-> 1338\u001b[0;31m         \u001b[0;32mreturn\u001b[0m \u001b[0msuper\u001b[0m\u001b[0;34m(\u001b[0m\u001b[0;34m)\u001b[0m\u001b[0;34m.\u001b[0m\u001b[0m__getitem__\u001b[0m\u001b[0;34m(\u001b[0m\u001b[0mkey\u001b[0m\u001b[0;34m)\u001b[0m\u001b[0;34m\u001b[0m\u001b[0;34m\u001b[0m\u001b[0m\n\u001b[0m\u001b[1;32m   1339\u001b[0m \u001b[0;34m\u001b[0m\u001b[0m\n\u001b[1;32m   1340\u001b[0m     \u001b[0;32mdef\u001b[0m \u001b[0m_gotitem\u001b[0m\u001b[0;34m(\u001b[0m\u001b[0mself\u001b[0m\u001b[0;34m,\u001b[0m \u001b[0mkey\u001b[0m\u001b[0;34m,\u001b[0m \u001b[0mndim\u001b[0m\u001b[0;34m:\u001b[0m \u001b[0mint\u001b[0m\u001b[0;34m,\u001b[0m \u001b[0msubset\u001b[0m\u001b[0;34m=\u001b[0m\u001b[0;32mNone\u001b[0m\u001b[0;34m)\u001b[0m\u001b[0;34m:\u001b[0m\u001b[0;34m\u001b[0m\u001b[0;34m\u001b[0m\u001b[0m\n",
      "\u001b[0;32m~/opt/anaconda3/lib/python3.9/site-packages/pandas/core/base.py\u001b[0m in \u001b[0;36m__getitem__\u001b[0;34m(self, key)\u001b[0m\n\u001b[1;32m    248\u001b[0m         \u001b[0;32melse\u001b[0m\u001b[0;34m:\u001b[0m\u001b[0;34m\u001b[0m\u001b[0;34m\u001b[0m\u001b[0m\n\u001b[1;32m    249\u001b[0m             \u001b[0;32mif\u001b[0m \u001b[0mkey\u001b[0m \u001b[0;32mnot\u001b[0m \u001b[0;32min\u001b[0m \u001b[0mself\u001b[0m\u001b[0;34m.\u001b[0m\u001b[0mobj\u001b[0m\u001b[0;34m:\u001b[0m\u001b[0;34m\u001b[0m\u001b[0;34m\u001b[0m\u001b[0m\n\u001b[0;32m--> 250\u001b[0;31m                 \u001b[0;32mraise\u001b[0m \u001b[0mKeyError\u001b[0m\u001b[0;34m(\u001b[0m\u001b[0;34mf\"Column not found: {key}\"\u001b[0m\u001b[0;34m)\u001b[0m\u001b[0;34m\u001b[0m\u001b[0;34m\u001b[0m\u001b[0m\n\u001b[0m\u001b[1;32m    251\u001b[0m             \u001b[0msubset\u001b[0m \u001b[0;34m=\u001b[0m \u001b[0mself\u001b[0m\u001b[0;34m.\u001b[0m\u001b[0mobj\u001b[0m\u001b[0;34m[\u001b[0m\u001b[0mkey\u001b[0m\u001b[0;34m]\u001b[0m\u001b[0;34m\u001b[0m\u001b[0;34m\u001b[0m\u001b[0m\n\u001b[1;32m    252\u001b[0m             \u001b[0mndim\u001b[0m \u001b[0;34m=\u001b[0m \u001b[0msubset\u001b[0m\u001b[0;34m.\u001b[0m\u001b[0mndim\u001b[0m\u001b[0;34m\u001b[0m\u001b[0;34m\u001b[0m\u001b[0m\n",
      "\u001b[0;31mKeyError\u001b[0m: 'Column not found: math_score'"
     ]
    }
   ],
   "source": [
    "# Group the data by school type\n",
    "by_type = school_data_complete.groupby(\"type\")\n",
    "\n",
    "# Calculate the average math score by school type\n",
    "avg_math_score_by_type = by_type[\"math_score\"].mean()\n",
    "\n",
    "# Calculate the average reading score by school type\n",
    "avg_reading_score_by_type = by_type[\"reading_score\"].mean()\n",
    "\n",
    "# Calculate the percentage of students passing math by school type\n",
    "passing_math_by_type = school_data_complete[school_data_complete[\"math_score\"] >= 70].groupby(\"type\")[\"Student ID\"].count() / by_type[\"Student ID\"].count() * 100\n",
    "\n",
    "# Calculate the percentage of students passing reading by school type\n",
    "passing_reading_by_type = school_data_complete[school_data_complete[\"reading_score\"] >= 70].groupby(\"type\")[\"Student ID\"].count() / by_type[\"Student ID\"].count() * 100\n",
    "\n",
    "# Calculate the overall passing percentage by school type\n",
    "overall_passing_by_type = (passing_math_by_type + passing_reading_by_type) / 2\n",
    "\n",
    "# Create a new dataframe to store the results\n",
    "scores_by_type = pd.DataFrame({\n",
    "    \"Average Maths Score\": avg_math_score_by_type,\n",
    "    \"Average Reading Score\": avg_reading_score_by_type,\n",
    "    \"% Passing Maths\": passing_math_by_type,\n",
    "    \"% Passing Reading\": passing_reading_by_type,\n",
    "    \"% Overall Passing\": overall_passing_by_type\n",
    "})\n",
    "\n",
    "# Format the data\n",
    "scores_by_type[\"Average Maths Score\"] = scores_by_type[\"Average Maths Score\"].map(\"{:.2f}\".format)\n",
    "scores_by_type[\"Average Reading Score\"] = scores_by_type[\"Average Reading Score\"].map(\"{:.2f}\".format)\n",
    "scores_by_type[\"% Passing Maths\"] = scores_by_type[\"% Passing Maths\"].map(\"{:.2f}%\".format)\n",
    "scores_by_type[\"% Passing Reading\"] = scores_by_type[\"% Passing Reading\"].map(\"{:.2f}%\".format)\n",
    "scores_by_type[\"% Overall Passing\"] = scores_by_type[\"% Overall Passing\"].map(\"{:.2f}%\".format)\n",
    "\n",
    "# Display the dataframe\n",
    "scores_by_type"
   ]
  }
 ],
 "metadata": {
  "anaconda-cloud": {},
  "kernel_info": {
   "name": "python3"
  },
  "kernelspec": {
   "display_name": "base",
   "language": "python",
   "name": "python3"
  },
  "language_info": {
   "codemirror_mode": {
    "name": "ipython",
    "version": 3
   },
   "file_extension": ".py",
   "mimetype": "text/x-python",
   "name": "python",
   "nbconvert_exporter": "python",
   "pygments_lexer": "ipython3",
   "version": "3.9.13"
  },
  "latex_envs": {
   "LaTeX_envs_menu_present": true,
   "autoclose": false,
   "autocomplete": true,
   "bibliofile": "biblio.bib",
   "cite_by": "apalike",
   "current_citInitial": 1,
   "eqLabelWithNumbers": true,
   "eqNumInitial": 1,
   "hotkeys": {
    "equation": "Ctrl-E",
    "itemize": "Ctrl-I"
   },
   "labels_anchors": false,
   "latex_user_defs": false,
   "report_style_numbering": false,
   "user_envs_cfg": false
  },
  "nteract": {
   "version": "0.8.4"
  },
  "vscode": {
   "interpreter": {
    "hash": "1ea90057872773d03a4076f66978d1adac2319522e889952f9fe5e11a808fd3a"
   }
  }
 },
 "nbformat": 4,
 "nbformat_minor": 1
}
